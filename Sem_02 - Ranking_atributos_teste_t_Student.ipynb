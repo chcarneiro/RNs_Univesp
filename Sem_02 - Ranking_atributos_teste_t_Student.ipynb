{
 "cells": [
  {
   "cell_type": "code",
   "execution_count": 2,
   "metadata": {},
   "outputs": [],
   "source": [
    "import numpy as np\n",
    "import pandas as pd\n",
    "from scipy.stats import ttest_ind\n",
    "from sklearn.datasets import load_breast_cancer\n",
    "from sklearn.model_selection import train_test_split"
   ]
  },
  {
   "cell_type": "code",
   "execution_count": 3,
   "metadata": {},
   "outputs": [],
   "source": [
    "# Carregar um dataset para exemplo (câncer de mama)\n",
    "data = load_breast_cancer()\n",
    "X = pd.DataFrame(data.data, columns=data.feature_names)\n",
    "y = data.target"
   ]
  },
  {
   "cell_type": "code",
   "execution_count": 4,
   "metadata": {},
   "outputs": [],
   "source": [
    "# Dividir os dados em duas classes\n",
    "class_0 = X[y == 0]\n",
    "class_1 = X[y == 1]\n",
    "\n",
    "# Calcular o teste t para cada atributo\n",
    "t_scores = []\n",
    "p_values = []\n"
   ]
  },
  {
   "cell_type": "code",
   "execution_count": 5,
   "metadata": {},
   "outputs": [],
   "source": [
    "for column in X.columns:\n",
    "    t_stat, p_val = ttest_ind(class_0[column], class_1[column], equal_var=False)\n",
    "    t_scores.append(np.abs(t_stat))\n",
    "    p_values.append(p_val)"
   ]
  },
  {
   "cell_type": "code",
   "execution_count": 6,
   "metadata": {},
   "outputs": [],
   "source": [
    "# Criar um DataFrame com os resultados\n",
    "ranking_df = pd.DataFrame({'Atributo': X.columns, 't_score': t_scores, 'p_value': p_values})\n"
   ]
  },
  {
   "cell_type": "code",
   "execution_count": 7,
   "metadata": {},
   "outputs": [],
   "source": [
    "# Ordenar os atributos pelo valor absoluto do t_score (ordem decrescente)\n",
    "ranking_df = ranking_df.sort_values(by='t_score', ascending=False)"
   ]
  },
  {
   "cell_type": "code",
   "execution_count": 8,
   "metadata": {},
   "outputs": [
    {
     "name": "stdout",
     "output_type": "stream",
     "text": [
      "Ranking de Atributos (Baseado no Teste t):\n",
      "                Atributo    t_score       p_value\n",
      "27  worst concave points  29.117659  1.061454e-96\n",
      "22       worst perimeter  25.332210  1.032730e-72\n",
      "7    mean concave points  24.844810  3.127316e-71\n",
      "20          worst radius  24.829745  3.556557e-71\n",
      "2         mean perimeter  22.935314  1.023141e-66\n"
     ]
    }
   ],
   "source": [
    "# Exibir os top atributos\n",
    "print(\"Ranking de Atributos (Baseado no Teste t):\")\n",
    "print(ranking_df.head())"
   ]
  },
  {
   "cell_type": "markdown",
   "metadata": {},
   "source": [
    "**Relato sobre o Entendimento:**\n",
    "\n",
    "Relevância dos Atributos: Os cinco atributos listados na tabela têm valores de t_score elevados, indicando que eles são os mais importantes para distinguir entre as duas classes no conjunto de dados de câncer de mama. Esses atributos apresentam diferenças substanciais nas médias entre as classes, o que os torna altamente relevantes para a tarefa de classificação.\n",
    "\n",
    "Significância Estatística: Os p_values extremamente baixos sugerem que as diferenças observadas não são fruto do acaso e são estatisticamente significativas. Isso dá confiança de que esses atributos têm um impacto real e significativo na distinção entre tumores benignos e malignos.\n",
    "\n",
    "Interpretação Geral: Os atributos relacionados a \"worst\" (ou seja, as piores medições observadas para um dado paciente, como worst concave points, worst perimeter, e worst radius) aparecem no topo da lista, sugerindo que os piores valores medidos têm uma forte correlação com a malignidade do tumor. Além disso, atributos como mean concave points e mean perimeter também são altamente relevantes, indicando que as características geométricas do tumor (como a concavidade e o perímetro) são cruciais para a classificação.\n",
    "\n",
    "\n",
    "Análise da Tabela:\n",
    "Atributo: A tabela lista os atributos mais relevantes, que são:\n",
    "\n",
    "worst concave points\n",
    "worst perimeter\n",
    "mean concave points\n",
    "worst radius\n",
    "mean perimeter\n",
    "t_score:\n",
    "\n",
    "O t_score indica a magnitude da diferença entre as médias das duas classes para cada atributo. Um t_score mais alto sugere que o atributo tem uma diferença significativa entre as classes, tornando-o mais relevante para a classificação.\n",
    "worst concave points tem o maior t_score (29.117659), indicando que este atributo é o mais discriminante entre as classes.\n",
    "p_value:\n",
    "\n",
    "O p_value mostra a significância estatística da diferença observada. Valores de p_value muito baixos (próximos de zero) indicam que a diferença observada é altamente significativa e não é devida ao acaso.\n",
    "Todos os atributos listados têm p_value extremamente baixos (e.g., 1.061454e-96 para worst concave points), reforçando a ideia de que as diferenças observadas entre as classes para esses atributos são muito significativas.\n",
    "\n"
   ]
  },
  {
   "cell_type": "markdown",
   "metadata": {},
   "source": []
  }
 ],
 "metadata": {
  "kernelspec": {
   "display_name": "Python (GPU)",
   "language": "python",
   "name": "gpu_env"
  },
  "language_info": {
   "codemirror_mode": {
    "name": "ipython",
    "version": 3
   },
   "file_extension": ".py",
   "mimetype": "text/x-python",
   "name": "python",
   "nbconvert_exporter": "python",
   "pygments_lexer": "ipython3",
   "version": "3.12.4"
  }
 },
 "nbformat": 4,
 "nbformat_minor": 2
}
