{
 "cells": [
  {
   "cell_type": "code",
   "execution_count": 1,
   "metadata": {},
   "outputs": [],
   "source": [
    "import numpy as np"
   ]
  },
  {
   "cell_type": "code",
   "execution_count": 2,
   "metadata": {},
   "outputs": [],
   "source": [
    "# Função de ativação Sigmoid\n",
    "def sigmoid(x):\n",
    "    return 1 / (1 + np.exp(-x))"
   ]
  },
  {
   "cell_type": "code",
   "execution_count": 3,
   "metadata": {},
   "outputs": [],
   "source": [
    "# Derivada da função sigmoid para calcular o gradiente\n",
    "def sigmoid_derivative(x):\n",
    "    return x * (1 - x)"
   ]
  },
  {
   "cell_type": "code",
   "execution_count": 4,
   "metadata": {},
   "outputs": [],
   "source": [
    "# Função de perda (Erro quadrático médio)\n",
    "def mse_loss(y_true, y_pred):\n",
    "    return np.mean((y_true - y_pred) ** 2)"
   ]
  },
  {
   "cell_type": "code",
   "execution_count": 20,
   "metadata": {},
   "outputs": [],
   "source": [
    "# Cálculo do neurônio de saída e retropropagação\n",
    "def forward_and_backward(X, y, weights_input_hidden, weights_hidden_output):\n",
    "    # Forward pass\n",
    "    hidden_input = np.dot(X, weights_input_hidden)\n",
    "    hidden_output = sigmoid(hidden_input)\n",
    "    \n",
    "    output_input = np.dot(hidden_output, weights_hidden_output)\n",
    "    output = sigmoid(output_input)\n",
    "    \n",
    "    # Cálculo do erro\n",
    "    error = y - output\n",
    "    \n",
    "    output_gradient = error * sigmoid_derivative(output)\n",
    "    hidden_gradient = np.dot(output_gradient, weights_hidden_output.T) * sigmoid_derivative(hidden_output)\n",
    "    \n",
    "    return output, output_gradient, hidden_gradient\n"
   ]
  },
  {
   "cell_type": "code",
   "execution_count": 22,
   "metadata": {},
   "outputs": [
    {
     "name": "stdout",
     "output_type": "stream",
     "text": [
      "Saída do neurônio: [[0.69167199]]\n",
      "Gradiente na saída: [[-0.08352869]]\n",
      "Gradiente na camada oculta: [[-0.00120545 -0.01801573 -0.01251845]]\n"
     ]
    }
   ],
   "source": [
    "# Parâmetros de entrada\n",
    "X = np.array([[0.1, 0.2]])\n",
    "y = np.array([[0.3]])\n",
    "\n",
    "# Pesos aleatórios\n",
    "np.random.seed(42)\n",
    "weights_input_hidden = np.random.rand(2, 3)\n",
    "weights_hidden_output = np.random.rand(3, 1)\n",
    "\n",
    "# Executa o algoritmo\n",
    "output, output_gradient, hidden_gradient = forward_and_backward(X, y, weights_input_hidden, weights_hidden_output)\n",
    "\n",
    "print(\"Saída do neurônio:\", output)\n",
    "print(\"Gradiente na saída:\", output_gradient)\n",
    "print(\"Gradiente na camada oculta:\", hidden_gradient)"
   ]
  },
  {
   "cell_type": "markdown",
   "metadata": {},
   "source": [
    "Explicação:\n",
    "Função de Ativação (Sigmoid): Converte a soma ponderada das entradas do neurônio em um valor entre 0 e 1.\n",
    "Cálculo da Saída: A saída do neurônio da camada de saída é calculada.\n",
    "Cálculo do Gradiente: Usando a derivada da função de ativação, calculamos o gradiente necessário para ajustar os pesos durante o treinamento.\n",
    "Isso ilustra os dois cálculos principais realizados por um neurônio de saída: a geração de uma saída funcional e a estimativa do vetor gradiente para a retropropagação."
   ]
  }
 ],
 "metadata": {
  "kernelspec": {
   "display_name": "Python (GPU)",
   "language": "python",
   "name": "gpu_env"
  },
  "language_info": {
   "codemirror_mode": {
    "name": "ipython",
    "version": 3
   },
   "file_extension": ".py",
   "mimetype": "text/x-python",
   "name": "python",
   "nbconvert_exporter": "python",
   "pygments_lexer": "ipython3",
   "version": "3.12.4"
  }
 },
 "nbformat": 4,
 "nbformat_minor": 2
}
